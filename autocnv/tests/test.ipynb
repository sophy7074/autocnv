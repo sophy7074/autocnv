{
 "cells": [
  {
   "cell_type": "code",
   "execution_count": 35,
   "metadata": {
    "collapsed": true,
    "ExecuteTime": {
     "end_time": "2024-05-13T07:23:35.767537600Z",
     "start_time": "2024-05-13T07:23:35.517382700Z"
    }
   },
   "outputs": [],
   "source": [
    "import pandas as pd\n",
    "from autocnv.annotate import AnnotateHelper\n",
    "\n",
    "annotate = AnnotateHelper()"
   ]
  },
  {
   "cell_type": "code",
   "execution_count": 36,
   "outputs": [
    {
     "name": "stdout",
     "output_type": "stream",
     "text": [
      "{'1A': 0, '2A': 1, '3A': 0} P\n"
     ]
    },
    {
     "data": {
      "text/plain": "  chromosome      start        end  length error outer_start  outer_end  \\\n0      chr12  114737220  114900761  163541     0   114737220  114900761   \n\n  inner_start  inner_end func  ... dgv_gain_records  \\\n0   114737220  114900761  del  ...               []   \n\n                                    dgv_loss_records  \\\n0  [((chr12, 114898181, 114901695, gssvL27307, , ...   \n\n                                  gnomad_del_records gnomad_dup_records  \\\n0  [((chr12, 114744111, 114744678, gnomAD-SV_v2.1...                 []   \n\n                                           cyto_band  \\\n0  [((chr12, 114300000, 116800000, q24.21, gpos50...   \n\n                                                exon  \\\n0  [((chr12, 114791735, 114793911, 6910, TBX5, 1,...   \n\n                         rules score pathogenicity pvs1  \n0  {'1A': 0, '2A': 1, '3A': 0}     1             P    -  \n\n[1 rows x 37 columns]",
      "text/html": "<div>\n<style scoped>\n    .dataframe tbody tr th:only-of-type {\n        vertical-align: middle;\n    }\n\n    .dataframe tbody tr th {\n        vertical-align: top;\n    }\n\n    .dataframe thead th {\n        text-align: right;\n    }\n</style>\n<table border=\"1\" class=\"dataframe\">\n  <thead>\n    <tr style=\"text-align: right;\">\n      <th></th>\n      <th>chromosome</th>\n      <th>start</th>\n      <th>end</th>\n      <th>length</th>\n      <th>error</th>\n      <th>outer_start</th>\n      <th>outer_end</th>\n      <th>inner_start</th>\n      <th>inner_end</th>\n      <th>func</th>\n      <th>...</th>\n      <th>dgv_gain_records</th>\n      <th>dgv_loss_records</th>\n      <th>gnomad_del_records</th>\n      <th>gnomad_dup_records</th>\n      <th>cyto_band</th>\n      <th>exon</th>\n      <th>rules</th>\n      <th>score</th>\n      <th>pathogenicity</th>\n      <th>pvs1</th>\n    </tr>\n  </thead>\n  <tbody>\n    <tr>\n      <th>0</th>\n      <td>chr12</td>\n      <td>114737220</td>\n      <td>114900761</td>\n      <td>163541</td>\n      <td>0</td>\n      <td>114737220</td>\n      <td>114900761</td>\n      <td>114737220</td>\n      <td>114900761</td>\n      <td>del</td>\n      <td>...</td>\n      <td>[]</td>\n      <td>[((chr12, 114898181, 114901695, gssvL27307, , ...</td>\n      <td>[((chr12, 114744111, 114744678, gnomAD-SV_v2.1...</td>\n      <td>[]</td>\n      <td>[((chr12, 114300000, 116800000, q24.21, gpos50...</td>\n      <td>[((chr12, 114791735, 114793911, 6910, TBX5, 1,...</td>\n      <td>{'1A': 0, '2A': 1, '3A': 0}</td>\n      <td>1</td>\n      <td>P</td>\n      <td>-</td>\n    </tr>\n  </tbody>\n</table>\n<p>1 rows × 37 columns</p>\n</div>"
     },
     "execution_count": 36,
     "metadata": {},
     "output_type": "execute_result"
    }
   ],
   "source": [
    "# 包含TBX5基因全部（基因 zoom out 3x）\n",
    "# web result: 1A 2A 3A Pathogenic (Total score: 1)\n",
    "annotation = annotate.annotate('chr12', 114737220, 114900761, 'del')\n",
    "assert '2A' in annotation['rules']\n",
    "print(annotation['rules'],annotation['pathogenicity'])\n",
    "pd.Series(annotation).to_frame().T"
   ],
   "metadata": {
    "collapsed": false,
    "ExecuteTime": {
     "end_time": "2024-05-13T07:23:35.801447400Z",
     "start_time": "2024-05-13T07:23:35.771526800Z"
    }
   }
  },
  {
   "cell_type": "code",
   "execution_count": 37,
   "outputs": [
    {
     "name": "stdout",
     "output_type": "stream",
     "text": [
      "{'1A': 0, '2C-1': 0.9, '3A': 0} LP\n"
     ]
    },
    {
     "data": {
      "text/plain": "  chromosome      start        end  length error outer_start  outer_end  \\\n0      chr12  114800000  114900761  100761     0   114800000  114900761   \n\n  inner_start  inner_end func  ... dgv_gain_records  \\\n0   114800000  114900761  del  ...               []   \n\n                                    dgv_loss_records  \\\n0  [((chr12, 114898181, 114901695, gssvL27307, , ...   \n\n                                  gnomad_del_records gnomad_dup_records  \\\n0  [((chr12, 114873375, 114873497, gnomAD-SV_v2.1...                 []   \n\n                                           cyto_band  \\\n0  [((chr12, 114300000, 116800000, q24.21, gpos50...   \n\n                                                exon  \\\n0  [((chr12, 114803970, 114804196, 6910, TBX5, 2,...   \n\n                             rules score pathogenicity pvs1  \n0  {'1A': 0, '2C-1': 0.9, '3A': 0}   0.9            LP    -  \n\n[1 rows x 37 columns]",
      "text/html": "<div>\n<style scoped>\n    .dataframe tbody tr th:only-of-type {\n        vertical-align: middle;\n    }\n\n    .dataframe tbody tr th {\n        vertical-align: top;\n    }\n\n    .dataframe thead th {\n        text-align: right;\n    }\n</style>\n<table border=\"1\" class=\"dataframe\">\n  <thead>\n    <tr style=\"text-align: right;\">\n      <th></th>\n      <th>chromosome</th>\n      <th>start</th>\n      <th>end</th>\n      <th>length</th>\n      <th>error</th>\n      <th>outer_start</th>\n      <th>outer_end</th>\n      <th>inner_start</th>\n      <th>inner_end</th>\n      <th>func</th>\n      <th>...</th>\n      <th>dgv_gain_records</th>\n      <th>dgv_loss_records</th>\n      <th>gnomad_del_records</th>\n      <th>gnomad_dup_records</th>\n      <th>cyto_band</th>\n      <th>exon</th>\n      <th>rules</th>\n      <th>score</th>\n      <th>pathogenicity</th>\n      <th>pvs1</th>\n    </tr>\n  </thead>\n  <tbody>\n    <tr>\n      <th>0</th>\n      <td>chr12</td>\n      <td>114800000</td>\n      <td>114900761</td>\n      <td>100761</td>\n      <td>0</td>\n      <td>114800000</td>\n      <td>114900761</td>\n      <td>114800000</td>\n      <td>114900761</td>\n      <td>del</td>\n      <td>...</td>\n      <td>[]</td>\n      <td>[((chr12, 114898181, 114901695, gssvL27307, , ...</td>\n      <td>[((chr12, 114873375, 114873497, gnomAD-SV_v2.1...</td>\n      <td>[]</td>\n      <td>[((chr12, 114300000, 116800000, q24.21, gpos50...</td>\n      <td>[((chr12, 114803970, 114804196, 6910, TBX5, 2,...</td>\n      <td>{'1A': 0, '2C-1': 0.9, '3A': 0}</td>\n      <td>0.9</td>\n      <td>LP</td>\n      <td>-</td>\n    </tr>\n  </tbody>\n</table>\n<p>1 rows × 37 columns</p>\n</div>"
     },
     "execution_count": 37,
     "metadata": {},
     "output_type": "execute_result"
    }
   ],
   "source": [
    "# TBX5基因5’端，覆盖CDS序列\n",
    "# web result: 1A 2C1 3A Likely Pathogenic (Total score: 0.9)\n",
    "annotation = annotate.annotate('chr12', 114800000, 114900761, 'del')\n",
    "assert '2C-1' in annotation['rules']\n",
    "print(annotation['rules'],annotation['pathogenicity'])\n",
    "pd.Series(annotation).to_frame().T"
   ],
   "metadata": {
    "collapsed": false,
    "ExecuteTime": {
     "end_time": "2024-05-13T07:23:35.830369900Z",
     "start_time": "2024-05-13T07:23:35.801447400Z"
    }
   }
  },
  {
   "cell_type": "code",
   "execution_count": 38,
   "outputs": [
    {
     "name": "stdout",
     "output_type": "stream",
     "text": [
      "{'1A': 0, '2C-2': 0, '3A': 0} VUS\n"
     ]
    },
    {
     "data": {
      "text/plain": "  chromosome      start        end length error outer_start  outer_end  \\\n0      chr12  114842000  114900761  58761     0   114842000  114900761   \n\n  inner_start  inner_end func  ... dgv_gain_records  \\\n0   114842000  114900761  del  ...               []   \n\n                                    dgv_loss_records  \\\n0  [((chr12, 114898181, 114901695, gssvL27307, , ...   \n\n                                  gnomad_del_records gnomad_dup_records  \\\n0  [((chr12, 114873375, 114873497, gnomAD-SV_v2.1...                 []   \n\n                                           cyto_band  \\\n0  [((chr12, 114300000, 116800000, q24.21, gpos50...   \n\n                                                exon  \\\n0  [((chr12, 114843433, 114843949, 6910, TBX5, 9,...   \n\n                           rules score pathogenicity pvs1  \n0  {'1A': 0, '2C-2': 0, '3A': 0}     0           VUS    -  \n\n[1 rows x 37 columns]",
      "text/html": "<div>\n<style scoped>\n    .dataframe tbody tr th:only-of-type {\n        vertical-align: middle;\n    }\n\n    .dataframe tbody tr th {\n        vertical-align: top;\n    }\n\n    .dataframe thead th {\n        text-align: right;\n    }\n</style>\n<table border=\"1\" class=\"dataframe\">\n  <thead>\n    <tr style=\"text-align: right;\">\n      <th></th>\n      <th>chromosome</th>\n      <th>start</th>\n      <th>end</th>\n      <th>length</th>\n      <th>error</th>\n      <th>outer_start</th>\n      <th>outer_end</th>\n      <th>inner_start</th>\n      <th>inner_end</th>\n      <th>func</th>\n      <th>...</th>\n      <th>dgv_gain_records</th>\n      <th>dgv_loss_records</th>\n      <th>gnomad_del_records</th>\n      <th>gnomad_dup_records</th>\n      <th>cyto_band</th>\n      <th>exon</th>\n      <th>rules</th>\n      <th>score</th>\n      <th>pathogenicity</th>\n      <th>pvs1</th>\n    </tr>\n  </thead>\n  <tbody>\n    <tr>\n      <th>0</th>\n      <td>chr12</td>\n      <td>114842000</td>\n      <td>114900761</td>\n      <td>58761</td>\n      <td>0</td>\n      <td>114842000</td>\n      <td>114900761</td>\n      <td>114842000</td>\n      <td>114900761</td>\n      <td>del</td>\n      <td>...</td>\n      <td>[]</td>\n      <td>[((chr12, 114898181, 114901695, gssvL27307, , ...</td>\n      <td>[((chr12, 114873375, 114873497, gnomAD-SV_v2.1...</td>\n      <td>[]</td>\n      <td>[((chr12, 114300000, 116800000, q24.21, gpos50...</td>\n      <td>[((chr12, 114843433, 114843949, 6910, TBX5, 9,...</td>\n      <td>{'1A': 0, '2C-2': 0, '3A': 0}</td>\n      <td>0</td>\n      <td>VUS</td>\n      <td>-</td>\n    </tr>\n  </tbody>\n</table>\n<p>1 rows × 37 columns</p>\n</div>"
     },
     "execution_count": 38,
     "metadata": {},
     "output_type": "execute_result"
    }
   ],
   "source": [
    "# TBX5基因5’端，不覆盖CDS序列\n",
    "# web result: 1A 2C2 3A Variant of Uncertain Significance (Total score: 0)\n",
    "annotation = annotate.annotate('chr12', 114842000, 114900761, 'del')\n",
    "assert '2C-2' in annotation['rules']\n",
    "print(annotation['rules'],annotation['pathogenicity'])\n",
    "pd.Series(annotation).to_frame().T"
   ],
   "metadata": {
    "collapsed": false,
    "ExecuteTime": {
     "end_time": "2024-05-13T07:23:36.003906100Z",
     "start_time": "2024-05-13T07:23:35.830369900Z"
    }
   }
  },
  {
   "cell_type": "code",
   "execution_count": 39,
   "outputs": [
    {
     "name": "stdout",
     "output_type": "stream",
     "text": [
      "{'1A': 0, '2D-1': 0, '3A': 0} VUS\n"
     ]
    },
    {
     "data": {
      "text/plain": "  chromosome      start        end length error outer_start  outer_end  \\\n0      chr12  114737220  114793000  55780     0   114737220  114793000   \n\n  inner_start  inner_end func  ... dgv_gain_records dgv_loss_records  \\\n0   114737220  114793000  del  ...               []               []   \n\n                                  gnomad_del_records gnomad_dup_records  \\\n0  [((chr12, 114744111, 114744678, gnomAD-SV_v2.1...                 []   \n\n                                           cyto_band  \\\n0  [((chr12, 114300000, 116800000, q24.21, gpos50...   \n\n                                                exon  \\\n0  [((chr12, 114791735, 114793911, 6910, TBX5, 1,...   \n\n                           rules score pathogenicity pvs1  \n0  {'1A': 0, '2D-1': 0, '3A': 0}     0           VUS    -  \n\n[1 rows x 37 columns]",
      "text/html": "<div>\n<style scoped>\n    .dataframe tbody tr th:only-of-type {\n        vertical-align: middle;\n    }\n\n    .dataframe tbody tr th {\n        vertical-align: top;\n    }\n\n    .dataframe thead th {\n        text-align: right;\n    }\n</style>\n<table border=\"1\" class=\"dataframe\">\n  <thead>\n    <tr style=\"text-align: right;\">\n      <th></th>\n      <th>chromosome</th>\n      <th>start</th>\n      <th>end</th>\n      <th>length</th>\n      <th>error</th>\n      <th>outer_start</th>\n      <th>outer_end</th>\n      <th>inner_start</th>\n      <th>inner_end</th>\n      <th>func</th>\n      <th>...</th>\n      <th>dgv_gain_records</th>\n      <th>dgv_loss_records</th>\n      <th>gnomad_del_records</th>\n      <th>gnomad_dup_records</th>\n      <th>cyto_band</th>\n      <th>exon</th>\n      <th>rules</th>\n      <th>score</th>\n      <th>pathogenicity</th>\n      <th>pvs1</th>\n    </tr>\n  </thead>\n  <tbody>\n    <tr>\n      <th>0</th>\n      <td>chr12</td>\n      <td>114737220</td>\n      <td>114793000</td>\n      <td>55780</td>\n      <td>0</td>\n      <td>114737220</td>\n      <td>114793000</td>\n      <td>114737220</td>\n      <td>114793000</td>\n      <td>del</td>\n      <td>...</td>\n      <td>[]</td>\n      <td>[]</td>\n      <td>[((chr12, 114744111, 114744678, gnomAD-SV_v2.1...</td>\n      <td>[]</td>\n      <td>[((chr12, 114300000, 116800000, q24.21, gpos50...</td>\n      <td>[((chr12, 114791735, 114793911, 6910, TBX5, 1,...</td>\n      <td>{'1A': 0, '2D-1': 0, '3A': 0}</td>\n      <td>0</td>\n      <td>VUS</td>\n      <td>-</td>\n    </tr>\n  </tbody>\n</table>\n<p>1 rows × 37 columns</p>\n</div>"
     },
     "execution_count": 39,
     "metadata": {},
     "output_type": "execute_result"
    }
   ],
   "source": [
    "# TBX5基因3'端，仅覆盖UTR区\n",
    "# web result: Evidence: 1A 2D1 3A Variant of Uncertain Significance (Total score: 0)\n",
    "annotation = annotate.annotate('chr12', 114737220, 114793000, 'del')\n",
    "assert '2D-1' in annotation['rules']\n",
    "print(annotation['rules'],annotation['pathogenicity'])\n",
    "pd.Series(annotation).to_frame().T"
   ],
   "metadata": {
    "collapsed": false,
    "ExecuteTime": {
     "end_time": "2024-05-13T07:23:36.004903300Z",
     "start_time": "2024-05-13T07:23:35.890239300Z"
    }
   }
  },
  {
   "cell_type": "code",
   "execution_count": 40,
   "outputs": [
    {
     "name": "stdout",
     "output_type": "stream",
     "text": [
      "{'1A': 0, '2D-2': 0.9, '3A': 0} LP\n"
     ]
    },
    {
     "data": {
      "text/plain": "  chromosome      start        end length error outer_start  outer_end  \\\n0      chr12  114737220  114800000  62780     0   114737220  114800000   \n\n  inner_start  inner_end func  ... dgv_gain_records dgv_loss_records  \\\n0   114737220  114800000  del  ...               []               []   \n\n                                  gnomad_del_records gnomad_dup_records  \\\n0  [((chr12, 114744111, 114744678, gnomAD-SV_v2.1...                 []   \n\n                                           cyto_band  \\\n0  [((chr12, 114300000, 116800000, q24.21, gpos50...   \n\n                                                exon  \\\n0  [((chr12, 114791735, 114793911, 6910, TBX5, 1,...   \n\n                             rules score pathogenicity pvs1  \n0  {'1A': 0, '2D-2': 0.9, '3A': 0}   0.9            LP    -  \n\n[1 rows x 37 columns]",
      "text/html": "<div>\n<style scoped>\n    .dataframe tbody tr th:only-of-type {\n        vertical-align: middle;\n    }\n\n    .dataframe tbody tr th {\n        vertical-align: top;\n    }\n\n    .dataframe thead th {\n        text-align: right;\n    }\n</style>\n<table border=\"1\" class=\"dataframe\">\n  <thead>\n    <tr style=\"text-align: right;\">\n      <th></th>\n      <th>chromosome</th>\n      <th>start</th>\n      <th>end</th>\n      <th>length</th>\n      <th>error</th>\n      <th>outer_start</th>\n      <th>outer_end</th>\n      <th>inner_start</th>\n      <th>inner_end</th>\n      <th>func</th>\n      <th>...</th>\n      <th>dgv_gain_records</th>\n      <th>dgv_loss_records</th>\n      <th>gnomad_del_records</th>\n      <th>gnomad_dup_records</th>\n      <th>cyto_band</th>\n      <th>exon</th>\n      <th>rules</th>\n      <th>score</th>\n      <th>pathogenicity</th>\n      <th>pvs1</th>\n    </tr>\n  </thead>\n  <tbody>\n    <tr>\n      <th>0</th>\n      <td>chr12</td>\n      <td>114737220</td>\n      <td>114800000</td>\n      <td>62780</td>\n      <td>0</td>\n      <td>114737220</td>\n      <td>114800000</td>\n      <td>114737220</td>\n      <td>114800000</td>\n      <td>del</td>\n      <td>...</td>\n      <td>[]</td>\n      <td>[]</td>\n      <td>[((chr12, 114744111, 114744678, gnomAD-SV_v2.1...</td>\n      <td>[]</td>\n      <td>[((chr12, 114300000, 116800000, q24.21, gpos50...</td>\n      <td>[((chr12, 114791735, 114793911, 6910, TBX5, 1,...</td>\n      <td>{'1A': 0, '2D-2': 0.9, '3A': 0}</td>\n      <td>0.9</td>\n      <td>LP</td>\n      <td>-</td>\n    </tr>\n  </tbody>\n</table>\n<p>1 rows × 37 columns</p>\n</div>"
     },
     "execution_count": 40,
     "metadata": {},
     "output_type": "execute_result"
    }
   ],
   "source": [
    "# TBX5基因3'端，仅覆盖末位外显子（该外显子含低频致病变异）\n",
    "# web result: Evidence: 1A 2D2 3A Likely Pathogenic (Total score: 0.9)\n",
    "annotation = annotate.annotate('chr12', 114737220, 114800000, 'del')\n",
    "assert '2D-2' in annotation['rules']\n",
    "print(annotation['rules'],annotation['pathogenicity'])\n",
    "pd.Series(annotation).to_frame().T"
   ],
   "metadata": {
    "collapsed": false,
    "ExecuteTime": {
     "end_time": "2024-05-13T07:23:36.083692500Z",
     "start_time": "2024-05-13T07:23:35.891207Z"
    }
   }
  },
  {
   "cell_type": "code",
   "execution_count": 41,
   "outputs": [
    {
     "name": "stdout",
     "output_type": "stream",
     "text": [
      "{'1A': 0, '2D-4': 0.9, '3A': 0} LP\n"
     ]
    },
    {
     "data": {
      "text/plain": "  chromosome      start        end length error outer_start  outer_end  \\\n0      chr12  114737220  114835000  97780     0   114737220  114835000   \n\n  inner_start  inner_end func  ... dgv_gain_records dgv_loss_records  \\\n0   114737220  114835000  del  ...               []               []   \n\n                                  gnomad_del_records gnomad_dup_records  \\\n0  [((chr12, 114744111, 114744678, gnomAD-SV_v2.1...                 []   \n\n                                           cyto_band  \\\n0  [((chr12, 114300000, 116800000, q24.21, gpos50...   \n\n                                                exon  \\\n0  [((chr12, 114791735, 114793911, 6910, TBX5, 1,...   \n\n                             rules score pathogenicity pvs1  \n0  {'1A': 0, '2D-4': 0.9, '3A': 0}   0.9            LP    -  \n\n[1 rows x 37 columns]",
      "text/html": "<div>\n<style scoped>\n    .dataframe tbody tr th:only-of-type {\n        vertical-align: middle;\n    }\n\n    .dataframe tbody tr th {\n        vertical-align: top;\n    }\n\n    .dataframe thead th {\n        text-align: right;\n    }\n</style>\n<table border=\"1\" class=\"dataframe\">\n  <thead>\n    <tr style=\"text-align: right;\">\n      <th></th>\n      <th>chromosome</th>\n      <th>start</th>\n      <th>end</th>\n      <th>length</th>\n      <th>error</th>\n      <th>outer_start</th>\n      <th>outer_end</th>\n      <th>inner_start</th>\n      <th>inner_end</th>\n      <th>func</th>\n      <th>...</th>\n      <th>dgv_gain_records</th>\n      <th>dgv_loss_records</th>\n      <th>gnomad_del_records</th>\n      <th>gnomad_dup_records</th>\n      <th>cyto_band</th>\n      <th>exon</th>\n      <th>rules</th>\n      <th>score</th>\n      <th>pathogenicity</th>\n      <th>pvs1</th>\n    </tr>\n  </thead>\n  <tbody>\n    <tr>\n      <th>0</th>\n      <td>chr12</td>\n      <td>114737220</td>\n      <td>114835000</td>\n      <td>97780</td>\n      <td>0</td>\n      <td>114737220</td>\n      <td>114835000</td>\n      <td>114737220</td>\n      <td>114835000</td>\n      <td>del</td>\n      <td>...</td>\n      <td>[]</td>\n      <td>[]</td>\n      <td>[((chr12, 114744111, 114744678, gnomAD-SV_v2.1...</td>\n      <td>[]</td>\n      <td>[((chr12, 114300000, 116800000, q24.21, gpos50...</td>\n      <td>[((chr12, 114791735, 114793911, 6910, TBX5, 1,...</td>\n      <td>{'1A': 0, '2D-4': 0.9, '3A': 0}</td>\n      <td>0.9</td>\n      <td>LP</td>\n      <td>-</td>\n    </tr>\n  </tbody>\n</table>\n<p>1 rows × 37 columns</p>\n</div>"
     },
     "execution_count": 41,
     "metadata": {},
     "output_type": "execute_result"
    }
   ],
   "source": [
    "# TBX5基因3'端，覆盖多个exon\n",
    "# web result: Evidence: 1A 2D4 3A Likely Pathogenic (Total score: 0.9)\n",
    "annotation = annotate.annotate('chr12', 114737220, 114835000, 'del')\n",
    "assert '2D-4' in annotation['rules']\n",
    "print(annotation['rules'],annotation['pathogenicity'])\n",
    "pd.Series(annotation).to_frame().T"
   ],
   "metadata": {
    "collapsed": false,
    "ExecuteTime": {
     "end_time": "2024-05-13T07:23:36.084689900Z",
     "start_time": "2024-05-13T07:23:35.934091700Z"
    }
   }
  },
  {
   "cell_type": "code",
   "execution_count": 42,
   "outputs": [
    {
     "name": "stdout",
     "output_type": "stream",
     "text": [
      "{'1A': 0, '2E': 0.9, '3A': 0} LP\n"
     ]
    },
    {
     "data": {
      "text/plain": "  chromosome      start        end length error outer_start  outer_end  \\\n0      chr12  114800000  114835000  35000     0   114800000  114835000   \n\n  inner_start  inner_end func  ... dgv_gain_records dgv_loss_records  \\\n0   114800000  114835000  del  ...               []               []   \n\n  gnomad_del_records gnomad_dup_records  \\\n0                 []                 []   \n\n                                           cyto_band  \\\n0  [((chr12, 114300000, 116800000, q24.21, gpos50...   \n\n                                                exon  \\\n0  [((chr12, 114803970, 114804196, 6910, TBX5, 2,...   \n\n                           rules score pathogenicity pvs1  \n0  {'1A': 0, '2E': 0.9, '3A': 0}   0.9            LP  0.9  \n\n[1 rows x 37 columns]",
      "text/html": "<div>\n<style scoped>\n    .dataframe tbody tr th:only-of-type {\n        vertical-align: middle;\n    }\n\n    .dataframe tbody tr th {\n        vertical-align: top;\n    }\n\n    .dataframe thead th {\n        text-align: right;\n    }\n</style>\n<table border=\"1\" class=\"dataframe\">\n  <thead>\n    <tr style=\"text-align: right;\">\n      <th></th>\n      <th>chromosome</th>\n      <th>start</th>\n      <th>end</th>\n      <th>length</th>\n      <th>error</th>\n      <th>outer_start</th>\n      <th>outer_end</th>\n      <th>inner_start</th>\n      <th>inner_end</th>\n      <th>func</th>\n      <th>...</th>\n      <th>dgv_gain_records</th>\n      <th>dgv_loss_records</th>\n      <th>gnomad_del_records</th>\n      <th>gnomad_dup_records</th>\n      <th>cyto_band</th>\n      <th>exon</th>\n      <th>rules</th>\n      <th>score</th>\n      <th>pathogenicity</th>\n      <th>pvs1</th>\n    </tr>\n  </thead>\n  <tbody>\n    <tr>\n      <th>0</th>\n      <td>chr12</td>\n      <td>114800000</td>\n      <td>114835000</td>\n      <td>35000</td>\n      <td>0</td>\n      <td>114800000</td>\n      <td>114835000</td>\n      <td>114800000</td>\n      <td>114835000</td>\n      <td>del</td>\n      <td>...</td>\n      <td>[]</td>\n      <td>[]</td>\n      <td>[]</td>\n      <td>[]</td>\n      <td>[((chr12, 114300000, 116800000, q24.21, gpos50...</td>\n      <td>[((chr12, 114803970, 114804196, 6910, TBX5, 2,...</td>\n      <td>{'1A': 0, '2E': 0.9, '3A': 0}</td>\n      <td>0.9</td>\n      <td>LP</td>\n      <td>0.9</td>\n    </tr>\n  </tbody>\n</table>\n<p>1 rows × 37 columns</p>\n</div>"
     },
     "execution_count": 42,
     "metadata": {},
     "output_type": "execute_result"
    }
   ],
   "source": [
    "# 包含TBX5中间3个exon\n",
    "# use transcripts\n",
    "# web results: Evidence: 1A 2E 3A Likely Pathogenic (Total score: 0.9)\n",
    "annotation = annotate.annotate('chr12', 114800000, 114835000, 'del')\n",
    "assert '2E' in annotation['rules']\n",
    "print(annotation['rules'],annotation['pathogenicity'])\n",
    "pd.Series(annotation).to_frame().T"
   ],
   "metadata": {
    "collapsed": false,
    "ExecuteTime": {
     "end_time": "2024-05-13T07:23:36.084689900Z",
     "start_time": "2024-05-13T07:23:35.934091700Z"
    }
   }
  },
  {
   "cell_type": "code",
   "execution_count": 43,
   "outputs": [
    {
     "name": "stdout",
     "output_type": "stream",
     "text": [
      "{'1A': 0, '2C-2': 0, '2D-2': 0.9, '3A': 0} LP\n"
     ]
    },
    {
     "data": {
      "text/plain": "  chromosome      start        end  length error outer_start  outer_end  \\\n0      chr12  114842000  115111000  269000     0   114842000  115111000   \n\n  inner_start  inner_end func  ... dgv_gain_records  \\\n0   114842000  115111000  del  ...               []   \n\n                                    dgv_loss_records  \\\n0  [((chr12, 114898181, 114901695, gssvL27307, , ...   \n\n                                  gnomad_del_records  \\\n0  [((chr12, 114873375, 114873497, gnomAD-SV_v2.1...   \n\n                                  gnomad_dup_records  \\\n0  [((chr12, 115070488, 115070996, gnomAD-SV_v2.1...   \n\n                                           cyto_band  \\\n0  [((chr12, 114300000, 116800000, q24.21, gpos50...   \n\n                                                exon  \\\n0  [((chr12, 114843433, 114843949, 6910, TBX5, 9,...   \n\n                                        rules score pathogenicity pvs1  \n0  {'1A': 0, '2C-2': 0, '2D-2': 0.9, '3A': 0}   0.9            LP    -  \n\n[1 rows x 37 columns]",
      "text/html": "<div>\n<style scoped>\n    .dataframe tbody tr th:only-of-type {\n        vertical-align: middle;\n    }\n\n    .dataframe tbody tr th {\n        vertical-align: top;\n    }\n\n    .dataframe thead th {\n        text-align: right;\n    }\n</style>\n<table border=\"1\" class=\"dataframe\">\n  <thead>\n    <tr style=\"text-align: right;\">\n      <th></th>\n      <th>chromosome</th>\n      <th>start</th>\n      <th>end</th>\n      <th>length</th>\n      <th>error</th>\n      <th>outer_start</th>\n      <th>outer_end</th>\n      <th>inner_start</th>\n      <th>inner_end</th>\n      <th>func</th>\n      <th>...</th>\n      <th>dgv_gain_records</th>\n      <th>dgv_loss_records</th>\n      <th>gnomad_del_records</th>\n      <th>gnomad_dup_records</th>\n      <th>cyto_band</th>\n      <th>exon</th>\n      <th>rules</th>\n      <th>score</th>\n      <th>pathogenicity</th>\n      <th>pvs1</th>\n    </tr>\n  </thead>\n  <tbody>\n    <tr>\n      <th>0</th>\n      <td>chr12</td>\n      <td>114842000</td>\n      <td>115111000</td>\n      <td>269000</td>\n      <td>0</td>\n      <td>114842000</td>\n      <td>115111000</td>\n      <td>114842000</td>\n      <td>115111000</td>\n      <td>del</td>\n      <td>...</td>\n      <td>[]</td>\n      <td>[((chr12, 114898181, 114901695, gssvL27307, , ...</td>\n      <td>[((chr12, 114873375, 114873497, gnomAD-SV_v2.1...</td>\n      <td>[((chr12, 115070488, 115070996, gnomAD-SV_v2.1...</td>\n      <td>[((chr12, 114300000, 116800000, q24.21, gpos50...</td>\n      <td>[((chr12, 114843433, 114843949, 6910, TBX5, 9,...</td>\n      <td>{'1A': 0, '2C-2': 0, '2D-2': 0.9, '3A': 0}</td>\n      <td>0.9</td>\n      <td>LP</td>\n      <td>-</td>\n    </tr>\n  </tbody>\n</table>\n<p>1 rows × 37 columns</p>\n</div>"
     },
     "execution_count": 43,
     "metadata": {},
     "output_type": "execute_result"
    }
   ],
   "source": [
    "# TBX5基因5’端，不覆盖CDS序列；TBX3基因3'端，仅覆盖末位外显子（该外显子含低频致病变异）\n",
    "# web results: Evidence: 1A 2C2 2D2 3A Likely Pathogenic (Total score: 0.9)\n",
    "annotation = annotate.annotate('chr12', 114842000, 115111000, 'del')\n",
    "assert '2C-2' in annotation['rules']\n",
    "assert '2D-2' in annotation['rules']\n",
    "assert '4O' not in annotation['rules']\n",
    "print(annotation['rules'],annotation['pathogenicity'])\n",
    "pd.Series(annotation).to_frame().T"
   ],
   "metadata": {
    "collapsed": false,
    "ExecuteTime": {
     "end_time": "2024-05-13T07:23:36.084689900Z",
     "start_time": "2024-05-13T07:23:35.981964200Z"
    }
   }
  },
  {
   "cell_type": "code",
   "execution_count": 44,
   "outputs": [
    {
     "name": "stdout",
     "output_type": "stream",
     "text": [
      "{'1A': 0, '2C-2': 0, '2D-4': 0.9, '3A': 0} LP\n"
     ]
    },
    {
     "data": {
      "text/plain": "  chromosome      start        end  length error outer_start  outer_end  \\\n0      chr12  114842000  115114000  272000     0   114842000  115114000   \n\n  inner_start  inner_end func  ... dgv_gain_records  \\\n0   114842000  115114000  del  ...               []   \n\n                                    dgv_loss_records  \\\n0  [((chr12, 114898181, 114901695, gssvL27307, , ...   \n\n                                  gnomad_del_records  \\\n0  [((chr12, 114873375, 114873497, gnomAD-SV_v2.1...   \n\n                                  gnomad_dup_records  \\\n0  [((chr12, 115070488, 115070996, gnomAD-SV_v2.1...   \n\n                                           cyto_band  \\\n0  [((chr12, 114300000, 116800000, q24.21, gpos50...   \n\n                                                exon  \\\n0  [((chr12, 114843433, 114843949, 6910, TBX5, 9,...   \n\n                                        rules score pathogenicity pvs1  \n0  {'1A': 0, '2C-2': 0, '2D-4': 0.9, '3A': 0}   0.9            LP    -  \n\n[1 rows x 37 columns]",
      "text/html": "<div>\n<style scoped>\n    .dataframe tbody tr th:only-of-type {\n        vertical-align: middle;\n    }\n\n    .dataframe tbody tr th {\n        vertical-align: top;\n    }\n\n    .dataframe thead th {\n        text-align: right;\n    }\n</style>\n<table border=\"1\" class=\"dataframe\">\n  <thead>\n    <tr style=\"text-align: right;\">\n      <th></th>\n      <th>chromosome</th>\n      <th>start</th>\n      <th>end</th>\n      <th>length</th>\n      <th>error</th>\n      <th>outer_start</th>\n      <th>outer_end</th>\n      <th>inner_start</th>\n      <th>inner_end</th>\n      <th>func</th>\n      <th>...</th>\n      <th>dgv_gain_records</th>\n      <th>dgv_loss_records</th>\n      <th>gnomad_del_records</th>\n      <th>gnomad_dup_records</th>\n      <th>cyto_band</th>\n      <th>exon</th>\n      <th>rules</th>\n      <th>score</th>\n      <th>pathogenicity</th>\n      <th>pvs1</th>\n    </tr>\n  </thead>\n  <tbody>\n    <tr>\n      <th>0</th>\n      <td>chr12</td>\n      <td>114842000</td>\n      <td>115114000</td>\n      <td>272000</td>\n      <td>0</td>\n      <td>114842000</td>\n      <td>115114000</td>\n      <td>114842000</td>\n      <td>115114000</td>\n      <td>del</td>\n      <td>...</td>\n      <td>[]</td>\n      <td>[((chr12, 114898181, 114901695, gssvL27307, , ...</td>\n      <td>[((chr12, 114873375, 114873497, gnomAD-SV_v2.1...</td>\n      <td>[((chr12, 115070488, 115070996, gnomAD-SV_v2.1...</td>\n      <td>[((chr12, 114300000, 116800000, q24.21, gpos50...</td>\n      <td>[((chr12, 114843433, 114843949, 6910, TBX5, 9,...</td>\n      <td>{'1A': 0, '2C-2': 0, '2D-4': 0.9, '3A': 0}</td>\n      <td>0.9</td>\n      <td>LP</td>\n      <td>-</td>\n    </tr>\n  </tbody>\n</table>\n<p>1 rows × 37 columns</p>\n</div>"
     },
     "execution_count": 44,
     "metadata": {},
     "output_type": "execute_result"
    }
   ],
   "source": [
    "# TBX5基因5’端，不覆盖CDS序列；TBX3基因3'端，覆盖多个外显子\n",
    "# web results: Evidence: 1A 2C2 2D4 3A Likely Pathogenic (Total score: 0.9)\n",
    "annotation = annotate.annotate('chr12', 114842000, 115114000, 'del')\n",
    "assert '2C-2' in annotation['rules']\n",
    "assert '2D-4' in annotation['rules']\n",
    "print(annotation['rules'],annotation['pathogenicity'])\n",
    "pd.Series(annotation).to_frame().T"
   ],
   "metadata": {
    "collapsed": false,
    "ExecuteTime": {
     "end_time": "2024-05-13T07:23:36.126447300Z",
     "start_time": "2024-05-13T07:23:35.986951100Z"
    }
   }
  },
  {
   "cell_type": "code",
   "execution_count": 45,
   "outputs": [
    {
     "name": "stdout",
     "output_type": "stream",
     "text": [
      "{'1A': 0, '2C-1': 0.9, '2D-2': 0.9, '3A': 0} LP\n"
     ]
    },
    {
     "data": {
      "text/plain": "  chromosome      start        end  length error outer_start  outer_end  \\\n0      chr12  114800000  115111000  311000     0   114800000  115111000   \n\n  inner_start  inner_end func  ... dgv_gain_records  \\\n0   114800000  115111000  del  ...               []   \n\n                                    dgv_loss_records  \\\n0  [((chr12, 114898181, 114901695, gssvL27307, , ...   \n\n                                  gnomad_del_records  \\\n0  [((chr12, 114873375, 114873497, gnomAD-SV_v2.1...   \n\n                                  gnomad_dup_records  \\\n0  [((chr12, 115070488, 115070996, gnomAD-SV_v2.1...   \n\n                                           cyto_band  \\\n0  [((chr12, 114300000, 116800000, q24.21, gpos50...   \n\n                                                exon  \\\n0  [((chr12, 114803970, 114804196, 6910, TBX5, 2,...   \n\n                                          rules score pathogenicity pvs1  \n0  {'1A': 0, '2C-1': 0.9, '2D-2': 0.9, '3A': 0}   0.9            LP    -  \n\n[1 rows x 37 columns]",
      "text/html": "<div>\n<style scoped>\n    .dataframe tbody tr th:only-of-type {\n        vertical-align: middle;\n    }\n\n    .dataframe tbody tr th {\n        vertical-align: top;\n    }\n\n    .dataframe thead th {\n        text-align: right;\n    }\n</style>\n<table border=\"1\" class=\"dataframe\">\n  <thead>\n    <tr style=\"text-align: right;\">\n      <th></th>\n      <th>chromosome</th>\n      <th>start</th>\n      <th>end</th>\n      <th>length</th>\n      <th>error</th>\n      <th>outer_start</th>\n      <th>outer_end</th>\n      <th>inner_start</th>\n      <th>inner_end</th>\n      <th>func</th>\n      <th>...</th>\n      <th>dgv_gain_records</th>\n      <th>dgv_loss_records</th>\n      <th>gnomad_del_records</th>\n      <th>gnomad_dup_records</th>\n      <th>cyto_band</th>\n      <th>exon</th>\n      <th>rules</th>\n      <th>score</th>\n      <th>pathogenicity</th>\n      <th>pvs1</th>\n    </tr>\n  </thead>\n  <tbody>\n    <tr>\n      <th>0</th>\n      <td>chr12</td>\n      <td>114800000</td>\n      <td>115111000</td>\n      <td>311000</td>\n      <td>0</td>\n      <td>114800000</td>\n      <td>115111000</td>\n      <td>114800000</td>\n      <td>115111000</td>\n      <td>del</td>\n      <td>...</td>\n      <td>[]</td>\n      <td>[((chr12, 114898181, 114901695, gssvL27307, , ...</td>\n      <td>[((chr12, 114873375, 114873497, gnomAD-SV_v2.1...</td>\n      <td>[((chr12, 115070488, 115070996, gnomAD-SV_v2.1...</td>\n      <td>[((chr12, 114300000, 116800000, q24.21, gpos50...</td>\n      <td>[((chr12, 114803970, 114804196, 6910, TBX5, 2,...</td>\n      <td>{'1A': 0, '2C-1': 0.9, '2D-2': 0.9, '3A': 0}</td>\n      <td>0.9</td>\n      <td>LP</td>\n      <td>-</td>\n    </tr>\n  </tbody>\n</table>\n<p>1 rows × 37 columns</p>\n</div>"
     },
     "execution_count": 45,
     "metadata": {},
     "output_type": "execute_result"
    }
   ],
   "source": [
    "# TBX5基因5’端，覆盖CDS序列；TBX3基因3'端，仅覆盖末位外显子（该外显子含低频致病变异）\n",
    "# web results: Evidence: 1A 2C1 2D2 3A Likely Pathogenic (Total score: 0.9)\n",
    "annotation = annotate.annotate('chr12', 114800000, 115111000, 'del')\n",
    "assert '2C-1' in annotation['rules']\n",
    "assert '2D-2' in annotation['rules']\n",
    "print(annotation['rules'],annotation['pathogenicity'])\n",
    "pd.Series(annotation).to_frame().T"
   ],
   "metadata": {
    "collapsed": false,
    "ExecuteTime": {
     "end_time": "2024-05-13T07:23:36.190399900Z",
     "start_time": "2024-05-13T07:23:36.023852700Z"
    }
   }
  },
  {
   "cell_type": "code",
   "execution_count": 46,
   "outputs": [
    {
     "name": "stdout",
     "output_type": "stream",
     "text": [
      "{'1A': 0, '2C-1': 0.9, '2D-4': 0.9, '3A': 0} LP\n"
     ]
    },
    {
     "data": {
      "text/plain": "  chromosome      start        end  length error outer_start  outer_end  \\\n0      chr12  114800000  115114000  314000     0   114800000  115114000   \n\n  inner_start  inner_end func  ... dgv_gain_records  \\\n0   114800000  115114000  del  ...               []   \n\n                                    dgv_loss_records  \\\n0  [((chr12, 114898181, 114901695, gssvL27307, , ...   \n\n                                  gnomad_del_records  \\\n0  [((chr12, 114873375, 114873497, gnomAD-SV_v2.1...   \n\n                                  gnomad_dup_records  \\\n0  [((chr12, 115070488, 115070996, gnomAD-SV_v2.1...   \n\n                                           cyto_band  \\\n0  [((chr12, 114300000, 116800000, q24.21, gpos50...   \n\n                                                exon  \\\n0  [((chr12, 114803970, 114804196, 6910, TBX5, 2,...   \n\n                                          rules score pathogenicity pvs1  \n0  {'1A': 0, '2C-1': 0.9, '2D-4': 0.9, '3A': 0}   0.9            LP    -  \n\n[1 rows x 37 columns]",
      "text/html": "<div>\n<style scoped>\n    .dataframe tbody tr th:only-of-type {\n        vertical-align: middle;\n    }\n\n    .dataframe tbody tr th {\n        vertical-align: top;\n    }\n\n    .dataframe thead th {\n        text-align: right;\n    }\n</style>\n<table border=\"1\" class=\"dataframe\">\n  <thead>\n    <tr style=\"text-align: right;\">\n      <th></th>\n      <th>chromosome</th>\n      <th>start</th>\n      <th>end</th>\n      <th>length</th>\n      <th>error</th>\n      <th>outer_start</th>\n      <th>outer_end</th>\n      <th>inner_start</th>\n      <th>inner_end</th>\n      <th>func</th>\n      <th>...</th>\n      <th>dgv_gain_records</th>\n      <th>dgv_loss_records</th>\n      <th>gnomad_del_records</th>\n      <th>gnomad_dup_records</th>\n      <th>cyto_band</th>\n      <th>exon</th>\n      <th>rules</th>\n      <th>score</th>\n      <th>pathogenicity</th>\n      <th>pvs1</th>\n    </tr>\n  </thead>\n  <tbody>\n    <tr>\n      <th>0</th>\n      <td>chr12</td>\n      <td>114800000</td>\n      <td>115114000</td>\n      <td>314000</td>\n      <td>0</td>\n      <td>114800000</td>\n      <td>115114000</td>\n      <td>114800000</td>\n      <td>115114000</td>\n      <td>del</td>\n      <td>...</td>\n      <td>[]</td>\n      <td>[((chr12, 114898181, 114901695, gssvL27307, , ...</td>\n      <td>[((chr12, 114873375, 114873497, gnomAD-SV_v2.1...</td>\n      <td>[((chr12, 115070488, 115070996, gnomAD-SV_v2.1...</td>\n      <td>[((chr12, 114300000, 116800000, q24.21, gpos50...</td>\n      <td>[((chr12, 114803970, 114804196, 6910, TBX5, 2,...</td>\n      <td>{'1A': 0, '2C-1': 0.9, '2D-4': 0.9, '3A': 0}</td>\n      <td>0.9</td>\n      <td>LP</td>\n      <td>-</td>\n    </tr>\n  </tbody>\n</table>\n<p>1 rows × 37 columns</p>\n</div>"
     },
     "execution_count": 46,
     "metadata": {},
     "output_type": "execute_result"
    }
   ],
   "source": [
    "# TBX5基因5’端，覆盖CDS序列；TBX3基因3'端，覆盖多个外显子\n",
    "# web results: Evidence: 1A 2C1 2D4 3A Likely Pathogenic (Total score: 0.9)\n",
    "annotation = annotate.annotate('chr12', 114800000, 115114000, 'del')\n",
    "assert '2C-1' in annotation['rules']\n",
    "assert '2D-4' in annotation['rules']\n",
    "print(annotation['rules'],annotation['pathogenicity'])\n",
    "pd.Series(annotation).to_frame().T"
   ],
   "metadata": {
    "collapsed": false,
    "ExecuteTime": {
     "end_time": "2024-05-13T07:23:36.343844500Z",
     "start_time": "2024-05-13T07:23:36.064743Z"
    }
   }
  },
  {
   "cell_type": "code",
   "execution_count": 47,
   "outputs": [
    {
     "name": "stdout",
     "output_type": "stream",
     "text": [
      "{'1A': 0, '2A': 1, '2H': 0, '3A': 0} P\n"
     ]
    },
    {
     "data": {
      "text/plain": "  chromosome      start        end  length error outer_start  outer_end  \\\n0       chrX  153268282  153382170  113888     0   153268282  153382170   \n\n  inner_start  inner_end func  ... dgv_gain_records dgv_loss_records  \\\n0   153268282  153382170  dup  ...               []               []   \n\n                                  gnomad_del_records gnomad_dup_records  \\\n0  [((chrX, 153302393, 153303800, gnomAD-SV_v2.1_...                 []   \n\n                                           cyto_band  \\\n0  [((chrX, 147100000, 155270560, q28, gneg), 1.0...   \n\n                                                exon  \\\n0  [((chrX, 153275958, 153277368, 3654, IRAK1, 1,...   \n\n                                  rules score pathogenicity pvs1  \n0  {'1A': 0, '2A': 1, '2H': 0, '3A': 0}     1             P    -  \n\n[1 rows x 37 columns]",
      "text/html": "<div>\n<style scoped>\n    .dataframe tbody tr th:only-of-type {\n        vertical-align: middle;\n    }\n\n    .dataframe tbody tr th {\n        vertical-align: top;\n    }\n\n    .dataframe thead th {\n        text-align: right;\n    }\n</style>\n<table border=\"1\" class=\"dataframe\">\n  <thead>\n    <tr style=\"text-align: right;\">\n      <th></th>\n      <th>chromosome</th>\n      <th>start</th>\n      <th>end</th>\n      <th>length</th>\n      <th>error</th>\n      <th>outer_start</th>\n      <th>outer_end</th>\n      <th>inner_start</th>\n      <th>inner_end</th>\n      <th>func</th>\n      <th>...</th>\n      <th>dgv_gain_records</th>\n      <th>dgv_loss_records</th>\n      <th>gnomad_del_records</th>\n      <th>gnomad_dup_records</th>\n      <th>cyto_band</th>\n      <th>exon</th>\n      <th>rules</th>\n      <th>score</th>\n      <th>pathogenicity</th>\n      <th>pvs1</th>\n    </tr>\n  </thead>\n  <tbody>\n    <tr>\n      <th>0</th>\n      <td>chrX</td>\n      <td>153268282</td>\n      <td>153382170</td>\n      <td>113888</td>\n      <td>0</td>\n      <td>153268282</td>\n      <td>153382170</td>\n      <td>153268282</td>\n      <td>153382170</td>\n      <td>dup</td>\n      <td>...</td>\n      <td>[]</td>\n      <td>[]</td>\n      <td>[((chrX, 153302393, 153303800, gnomAD-SV_v2.1_...</td>\n      <td>[]</td>\n      <td>[((chrX, 147100000, 155270560, q28, gneg), 1.0...</td>\n      <td>[((chrX, 153275958, 153277368, 3654, IRAK1, 1,...</td>\n      <td>{'1A': 0, '2A': 1, '2H': 0, '3A': 0}</td>\n      <td>1</td>\n      <td>P</td>\n      <td>-</td>\n    </tr>\n  </tbody>\n</table>\n<p>1 rows × 37 columns</p>\n</div>"
     },
     "execution_count": 47,
     "metadata": {},
     "output_type": "execute_result"
    }
   ],
   "source": [
    "# 包含MECP2基因全部（基因范围 zoom out 1.5x）\n",
    "# web results: Evidence: 1A 2A 2H 3A Pathogenic (Total score: 1)\n",
    "annotation = annotate.annotate('chrX', 153268282, 153382170, 'dup')\n",
    "assert '2A' in annotation['rules']\n",
    "assert '2H' in annotation['rules']\n",
    "print(annotation['rules'],annotation['pathogenicity'])\n",
    "pd.Series(annotation).to_frame().T"
   ],
   "metadata": {
    "collapsed": false,
    "ExecuteTime": {
     "end_time": "2024-05-13T07:23:36.404618600Z",
     "start_time": "2024-05-13T07:23:36.107471500Z"
    }
   }
  },
  {
   "cell_type": "code",
   "execution_count": 48,
   "outputs": [
    {
     "name": "stdout",
     "output_type": "stream",
     "text": [
      "{'1A': 0, '2B': 0, '2I': 0, '3A': 0} VUS\n"
     ]
    },
    {
     "data": {
      "text/plain": "  chromosome      start        end length error outer_start  outer_end  \\\n0       chrX  153300000  153363100  63100     0   153300000  153363100   \n\n  inner_start  inner_end func  ... dgv_gain_records dgv_loss_records  \\\n0   153300000  153363100  dup  ...               []               []   \n\n                                  gnomad_del_records gnomad_dup_records  \\\n0  [((chrX, 153302393, 153303800, gnomAD-SV_v2.1_...                 []   \n\n                                           cyto_band  \\\n0  [((chrX, 147100000, 155270560, q28, gneg), 1.0...   \n\n                                                exon  \\\n0  [((chrX, 153363061, 153363174, 4204, MECP2, 3,...   \n\n                                  rules score pathogenicity pvs1  \n0  {'1A': 0, '2B': 0, '2I': 0, '3A': 0}     0           VUS    0  \n\n[1 rows x 37 columns]",
      "text/html": "<div>\n<style scoped>\n    .dataframe tbody tr th:only-of-type {\n        vertical-align: middle;\n    }\n\n    .dataframe tbody tr th {\n        vertical-align: top;\n    }\n\n    .dataframe thead th {\n        text-align: right;\n    }\n</style>\n<table border=\"1\" class=\"dataframe\">\n  <thead>\n    <tr style=\"text-align: right;\">\n      <th></th>\n      <th>chromosome</th>\n      <th>start</th>\n      <th>end</th>\n      <th>length</th>\n      <th>error</th>\n      <th>outer_start</th>\n      <th>outer_end</th>\n      <th>inner_start</th>\n      <th>inner_end</th>\n      <th>func</th>\n      <th>...</th>\n      <th>dgv_gain_records</th>\n      <th>dgv_loss_records</th>\n      <th>gnomad_del_records</th>\n      <th>gnomad_dup_records</th>\n      <th>cyto_band</th>\n      <th>exon</th>\n      <th>rules</th>\n      <th>score</th>\n      <th>pathogenicity</th>\n      <th>pvs1</th>\n    </tr>\n  </thead>\n  <tbody>\n    <tr>\n      <th>0</th>\n      <td>chrX</td>\n      <td>153300000</td>\n      <td>153363100</td>\n      <td>63100</td>\n      <td>0</td>\n      <td>153300000</td>\n      <td>153363100</td>\n      <td>153300000</td>\n      <td>153363100</td>\n      <td>dup</td>\n      <td>...</td>\n      <td>[]</td>\n      <td>[]</td>\n      <td>[((chrX, 153302393, 153303800, gnomAD-SV_v2.1_...</td>\n      <td>[]</td>\n      <td>[((chrX, 147100000, 155270560, q28, gneg), 1.0...</td>\n      <td>[((chrX, 153363061, 153363174, 4204, MECP2, 3,...</td>\n      <td>{'1A': 0, '2B': 0, '2I': 0, '3A': 0}</td>\n      <td>0</td>\n      <td>VUS</td>\n      <td>0</td>\n    </tr>\n  </tbody>\n</table>\n<p>1 rows × 37 columns</p>\n</div>"
     },
     "execution_count": 48,
     "metadata": {},
     "output_type": "execute_result"
    }
   ],
   "source": [
    "# MECP2基因内CNV\n",
    "# web results: Evidence: 1A 2B 2I 3A Variant of Uncertain Significance (Total score: 0.45)\n",
    "# 2I PVS1 0.45\n",
    "#TODO\n",
    "# adjust 2I score PVS1_strong?\n",
    "annotation = annotate.annotate('chrX', 153300000, 153363100, 'dup')\n",
    "assert '2I' in annotation['rules']\n",
    "print(annotation['rules'],annotation['pathogenicity'])\n",
    "pd.Series(annotation).to_frame().T"
   ],
   "metadata": {
    "collapsed": false,
    "ExecuteTime": {
     "end_time": "2024-05-13T07:23:36.423567200Z",
     "start_time": "2024-05-13T07:23:36.133361500Z"
    }
   }
  },
  {
   "cell_type": "code",
   "execution_count": 49,
   "outputs": [
    {
     "name": "stdout",
     "output_type": "stream",
     "text": [
      "{'1A': 0, '3A': 0, '4O': -1} B\n"
     ]
    },
    {
     "data": {
      "text/plain": "  chromosome      start        end length error outer_start  outer_end  \\\n0       chr1  196757278  196796716  39438     0   196757278  196796716   \n\n  inner_start  inner_end func  ...  \\\n0   196757278  196796716  del  ...   \n\n                                    dgv_gain_records  \\\n0  [((chr1, 196704080, 196819917, gssvG2956, CFH,...   \n\n                                    dgv_loss_records  \\\n0  [((chr1, 196711400, 196820800, gssvL6983, CFH,...   \n\n                                  gnomad_del_records  \\\n0  [((chr1, 196728999, 196789200, gnomAD-SV_v2.1_...   \n\n                                  gnomad_dup_records  \\\n0  [((chr1, 196711477, 197053461, gnomAD-SV_v2.1_...   \n\n                                           cyto_band  \\\n0  [((chr1, 193800000, 198700000, q31.3, gpos100)...   \n\n                                                exon  \\\n0  [((chr1, 196759175, 196759357, 10878, CFHR3, 4...   \n\n                          rules score pathogenicity pvs1  \n0  {'1A': 0, '3A': 0, '4O': -1}    -1             B    -  \n\n[1 rows x 37 columns]",
      "text/html": "<div>\n<style scoped>\n    .dataframe tbody tr th:only-of-type {\n        vertical-align: middle;\n    }\n\n    .dataframe tbody tr th {\n        vertical-align: top;\n    }\n\n    .dataframe thead th {\n        text-align: right;\n    }\n</style>\n<table border=\"1\" class=\"dataframe\">\n  <thead>\n    <tr style=\"text-align: right;\">\n      <th></th>\n      <th>chromosome</th>\n      <th>start</th>\n      <th>end</th>\n      <th>length</th>\n      <th>error</th>\n      <th>outer_start</th>\n      <th>outer_end</th>\n      <th>inner_start</th>\n      <th>inner_end</th>\n      <th>func</th>\n      <th>...</th>\n      <th>dgv_gain_records</th>\n      <th>dgv_loss_records</th>\n      <th>gnomad_del_records</th>\n      <th>gnomad_dup_records</th>\n      <th>cyto_band</th>\n      <th>exon</th>\n      <th>rules</th>\n      <th>score</th>\n      <th>pathogenicity</th>\n      <th>pvs1</th>\n    </tr>\n  </thead>\n  <tbody>\n    <tr>\n      <th>0</th>\n      <td>chr1</td>\n      <td>196757278</td>\n      <td>196796716</td>\n      <td>39438</td>\n      <td>0</td>\n      <td>196757278</td>\n      <td>196796716</td>\n      <td>196757278</td>\n      <td>196796716</td>\n      <td>del</td>\n      <td>...</td>\n      <td>[((chr1, 196704080, 196819917, gssvG2956, CFH,...</td>\n      <td>[((chr1, 196711400, 196820800, gssvL6983, CFH,...</td>\n      <td>[((chr1, 196728999, 196789200, gnomAD-SV_v2.1_...</td>\n      <td>[((chr1, 196711477, 197053461, gnomAD-SV_v2.1_...</td>\n      <td>[((chr1, 193800000, 198700000, q31.3, gpos100)...</td>\n      <td>[((chr1, 196759175, 196759357, 10878, CFHR3, 4...</td>\n      <td>{'1A': 0, '3A': 0, '4O': -1}</td>\n      <td>-1</td>\n      <td>B</td>\n      <td>-</td>\n    </tr>\n  </tbody>\n</table>\n<p>1 rows × 37 columns</p>\n</div>"
     },
     "execution_count": 49,
     "metadata": {},
     "output_type": "execute_result"
    }
   ],
   "source": [
    "# web results: Evidence: 1A 3A 4O Benign (Total score: -1)\n",
    "annotation = annotate.annotate('chr1', 196757278, 196796716, 'del')\n",
    "assert '4O' in annotation['rules']\n",
    "print(annotation['rules'],annotation['pathogenicity'])\n",
    "pd.Series(annotation).to_frame().T"
   ],
   "metadata": {
    "collapsed": false,
    "ExecuteTime": {
     "end_time": "2024-05-13T07:23:36.423567200Z",
     "start_time": "2024-05-13T07:23:36.173305300Z"
    }
   }
  },
  {
   "cell_type": "code",
   "execution_count": 50,
   "outputs": [
    {
     "name": "stdout",
     "output_type": "stream",
     "text": [
      "{'1A': 0, '2A': 1, '2B': 0, '3A': 0} P\n"
     ]
    },
    {
     "data": {
      "text/plain": "  chromosome     start       end  length error outer_start outer_end  \\\n0      chr15  22750305  23226254  475949     0    22750305  23226254   \n\n  inner_start inner_end func  ...  \\\n0    22750305  23226254  del  ...   \n\n                                    dgv_gain_records  \\\n0  [((chr15, 20228227, 22775879, gssvG12223, GOLG...   \n\n                                    dgv_loss_records  \\\n0  [((chr15, 22299434, 23102295, gssvL37820, OR4M...   \n\n                                  gnomad_del_records  \\\n0  [((chr15, 22748998, 23268000, gnomAD-SV_v2.1_D...   \n\n                                  gnomad_dup_records  \\\n0  [((chr15, 22808899, 22814000, gnomAD-SV_v2.1_D...   \n\n                                           cyto_band  \\\n0  [((chr15, 20700000, 25700000, q11.2, gneg), 1....   \n\n                                                exon  \\\n0  [((chr15, 22833499, 22833670, 114791, TUBGCP5,...   \n\n                                  rules score pathogenicity pvs1  \n0  {'1A': 0, '2A': 1, '2B': 0, '3A': 0}     1             P    -  \n\n[1 rows x 37 columns]",
      "text/html": "<div>\n<style scoped>\n    .dataframe tbody tr th:only-of-type {\n        vertical-align: middle;\n    }\n\n    .dataframe tbody tr th {\n        vertical-align: top;\n    }\n\n    .dataframe thead th {\n        text-align: right;\n    }\n</style>\n<table border=\"1\" class=\"dataframe\">\n  <thead>\n    <tr style=\"text-align: right;\">\n      <th></th>\n      <th>chromosome</th>\n      <th>start</th>\n      <th>end</th>\n      <th>length</th>\n      <th>error</th>\n      <th>outer_start</th>\n      <th>outer_end</th>\n      <th>inner_start</th>\n      <th>inner_end</th>\n      <th>func</th>\n      <th>...</th>\n      <th>dgv_gain_records</th>\n      <th>dgv_loss_records</th>\n      <th>gnomad_del_records</th>\n      <th>gnomad_dup_records</th>\n      <th>cyto_band</th>\n      <th>exon</th>\n      <th>rules</th>\n      <th>score</th>\n      <th>pathogenicity</th>\n      <th>pvs1</th>\n    </tr>\n  </thead>\n  <tbody>\n    <tr>\n      <th>0</th>\n      <td>chr15</td>\n      <td>22750305</td>\n      <td>23226254</td>\n      <td>475949</td>\n      <td>0</td>\n      <td>22750305</td>\n      <td>23226254</td>\n      <td>22750305</td>\n      <td>23226254</td>\n      <td>del</td>\n      <td>...</td>\n      <td>[((chr15, 20228227, 22775879, gssvG12223, GOLG...</td>\n      <td>[((chr15, 22299434, 23102295, gssvL37820, OR4M...</td>\n      <td>[((chr15, 22748998, 23268000, gnomAD-SV_v2.1_D...</td>\n      <td>[((chr15, 22808899, 22814000, gnomAD-SV_v2.1_D...</td>\n      <td>[((chr15, 20700000, 25700000, q11.2, gneg), 1....</td>\n      <td>[((chr15, 22833499, 22833670, 114791, TUBGCP5,...</td>\n      <td>{'1A': 0, '2A': 1, '2B': 0, '3A': 0}</td>\n      <td>1</td>\n      <td>P</td>\n      <td>-</td>\n    </tr>\n  </tbody>\n</table>\n<p>1 rows × 37 columns</p>\n</div>"
     },
     "execution_count": 50,
     "metadata": {},
     "output_type": "execute_result"
    }
   ],
   "source": [
    "# web results: Evidence: 1A 2A 2B 3A Pathogenic (Total score: 1)\n",
    "annotation = annotate.annotate('chr15', 22750305, 23226254, 'del')\n",
    "assert '4O' not in annotation['rules']\n",
    "print(annotation['rules'],annotation['pathogenicity'])\n",
    "pd.Series(annotation).to_frame().T"
   ],
   "metadata": {
    "collapsed": false,
    "ExecuteTime": {
     "end_time": "2024-05-13T07:23:36.621391100Z",
     "start_time": "2024-05-13T07:23:36.214493300Z"
    }
   }
  },
  {
   "cell_type": "code",
   "execution_count": 51,
   "outputs": [
    {
     "name": "stdout",
     "output_type": "stream",
     "text": [
      "{'1A': 0, '2G': 0, '3A': 0} VUS\n"
     ]
    },
    {
     "data": {
      "text/plain": "  chromosome     start       end  length error outer_start outer_end  \\\n0       chr1  25584597  25767647  183050     0    25584597  25767647   \n\n  inner_start inner_end func  ...  \\\n0    25584597  25767647  del  ...   \n\n                                    dgv_gain_records  \\\n0  [((chr1, 25308104, 25710676, gssvG611, SYF2,RS...   \n\n                                    dgv_loss_records  \\\n0  [((chr1, 25585344, 25636420, gssvL1591, RHD, 0...   \n\n                                  gnomad_del_records  \\\n0  [((chr1, 25585994, 25586045, gnomAD-SV_v2.1_DE...   \n\n                                  gnomad_dup_records  \\\n0  [((chr1, 25580999, 25594000, gnomAD-SV_v2.1_DU...   \n\n                                           cyto_band  \\\n0  [((chr1, 23900000, 28000000, p36.11, gneg), 1....   \n\n                                                exon  \\\n0  [((chr1, 25599000, 25599186, 6007, RHD, 1, NM_...   \n\n                         rules score pathogenicity pvs1  \n0  {'1A': 0, '2G': 0, '3A': 0}     0           VUS    -  \n\n[1 rows x 37 columns]",
      "text/html": "<div>\n<style scoped>\n    .dataframe tbody tr th:only-of-type {\n        vertical-align: middle;\n    }\n\n    .dataframe tbody tr th {\n        vertical-align: top;\n    }\n\n    .dataframe thead th {\n        text-align: right;\n    }\n</style>\n<table border=\"1\" class=\"dataframe\">\n  <thead>\n    <tr style=\"text-align: right;\">\n      <th></th>\n      <th>chromosome</th>\n      <th>start</th>\n      <th>end</th>\n      <th>length</th>\n      <th>error</th>\n      <th>outer_start</th>\n      <th>outer_end</th>\n      <th>inner_start</th>\n      <th>inner_end</th>\n      <th>func</th>\n      <th>...</th>\n      <th>dgv_gain_records</th>\n      <th>dgv_loss_records</th>\n      <th>gnomad_del_records</th>\n      <th>gnomad_dup_records</th>\n      <th>cyto_band</th>\n      <th>exon</th>\n      <th>rules</th>\n      <th>score</th>\n      <th>pathogenicity</th>\n      <th>pvs1</th>\n    </tr>\n  </thead>\n  <tbody>\n    <tr>\n      <th>0</th>\n      <td>chr1</td>\n      <td>25584597</td>\n      <td>25767647</td>\n      <td>183050</td>\n      <td>0</td>\n      <td>25584597</td>\n      <td>25767647</td>\n      <td>25584597</td>\n      <td>25767647</td>\n      <td>del</td>\n      <td>...</td>\n      <td>[((chr1, 25308104, 25710676, gssvG611, SYF2,RS...</td>\n      <td>[((chr1, 25585344, 25636420, gssvL1591, RHD, 0...</td>\n      <td>[((chr1, 25585994, 25586045, gnomAD-SV_v2.1_DE...</td>\n      <td>[((chr1, 25580999, 25594000, gnomAD-SV_v2.1_DU...</td>\n      <td>[((chr1, 23900000, 28000000, p36.11, gneg), 1....</td>\n      <td>[((chr1, 25599000, 25599186, 6007, RHD, 1, NM_...</td>\n      <td>{'1A': 0, '2G': 0, '3A': 0}</td>\n      <td>0</td>\n      <td>VUS</td>\n      <td>-</td>\n    </tr>\n  </tbody>\n</table>\n<p>1 rows × 37 columns</p>\n</div>"
     },
     "execution_count": 51,
     "metadata": {},
     "output_type": "execute_result"
    }
   ],
   "source": [
    "# web results: Evidence: 1A 2G 3A Variant of Uncertain Significance (Total score: 0)\n",
    "annotation = annotate.annotate('chr1', 25584597, 25767647, 'del')\n",
    "assert '4O' not in annotation['rules']\n",
    "print(annotation['rules'],annotation['pathogenicity'])\n",
    "pd.Series(annotation).to_frame().T"
   ],
   "metadata": {
    "collapsed": false,
    "ExecuteTime": {
     "end_time": "2024-05-13T07:23:36.721316300Z",
     "start_time": "2024-05-13T07:23:36.280940Z"
    }
   }
  },
  {
   "cell_type": "code",
   "execution_count": 52,
   "outputs": [
    {
     "name": "stdout",
     "output_type": "stream",
     "text": [
      "{'1B': -0.6, '2D': -1, '3A': 0, '4O': -1} B\n"
     ]
    },
    {
     "data": {
      "text/plain": "  chromosome      start        end  length error outer_start  outer_end  \\\n0       chr1  148974342  149441884  467542     0   148974342  149441884   \n\n  inner_start  inner_end func  ...  \\\n0   148974342  149441884  dup  ...   \n\n                                    dgv_gain_records  \\\n0  [((chr1, 148397063, 149643182, gssvG1746, NBPF...   \n\n                                    dgv_loss_records  \\\n0  [((chr1, 147844439, 149224104, gssvL5087, PPIA...   \n\n                                  gnomad_del_records  \\\n0  [((chr1, 149035899, 149053900, gnomAD-SV_v2.1_...   \n\n                                  gnomad_dup_records  \\\n0  [((chr1, 149417749, 149433850, gnomAD-SV_v2.1_...   \n\n                                           cyto_band exon  \\\n0  [((chr1, 147000000, 150300000, q21.2, gpos50),...   []   \n\n                                       rules score pathogenicity pvs1  \n0  {'1B': -0.6, '2D': -1, '3A': 0, '4O': -1}  -2.6             B    -  \n\n[1 rows x 37 columns]",
      "text/html": "<div>\n<style scoped>\n    .dataframe tbody tr th:only-of-type {\n        vertical-align: middle;\n    }\n\n    .dataframe tbody tr th {\n        vertical-align: top;\n    }\n\n    .dataframe thead th {\n        text-align: right;\n    }\n</style>\n<table border=\"1\" class=\"dataframe\">\n  <thead>\n    <tr style=\"text-align: right;\">\n      <th></th>\n      <th>chromosome</th>\n      <th>start</th>\n      <th>end</th>\n      <th>length</th>\n      <th>error</th>\n      <th>outer_start</th>\n      <th>outer_end</th>\n      <th>inner_start</th>\n      <th>inner_end</th>\n      <th>func</th>\n      <th>...</th>\n      <th>dgv_gain_records</th>\n      <th>dgv_loss_records</th>\n      <th>gnomad_del_records</th>\n      <th>gnomad_dup_records</th>\n      <th>cyto_band</th>\n      <th>exon</th>\n      <th>rules</th>\n      <th>score</th>\n      <th>pathogenicity</th>\n      <th>pvs1</th>\n    </tr>\n  </thead>\n  <tbody>\n    <tr>\n      <th>0</th>\n      <td>chr1</td>\n      <td>148974342</td>\n      <td>149441884</td>\n      <td>467542</td>\n      <td>0</td>\n      <td>148974342</td>\n      <td>149441884</td>\n      <td>148974342</td>\n      <td>149441884</td>\n      <td>dup</td>\n      <td>...</td>\n      <td>[((chr1, 148397063, 149643182, gssvG1746, NBPF...</td>\n      <td>[((chr1, 147844439, 149224104, gssvL5087, PPIA...</td>\n      <td>[((chr1, 149035899, 149053900, gnomAD-SV_v2.1_...</td>\n      <td>[((chr1, 149417749, 149433850, gnomAD-SV_v2.1_...</td>\n      <td>[((chr1, 147000000, 150300000, q21.2, gpos50),...</td>\n      <td>[]</td>\n      <td>{'1B': -0.6, '2D': -1, '3A': 0, '4O': -1}</td>\n      <td>-2.6</td>\n      <td>B</td>\n      <td>-</td>\n    </tr>\n  </tbody>\n</table>\n<p>1 rows × 37 columns</p>\n</div>"
     },
     "execution_count": 52,
     "metadata": {},
     "output_type": "execute_result"
    }
   ],
   "source": [
    "# web results: Evidence: 1B 2D 3A 4O Benign (Total score: -1.6)\n",
    "#TODO\n",
    "# 2D 0?\n",
    "annotation = annotate.annotate('chr1', 148974342, 149441884, 'dup')\n",
    "assert '4O' in annotation['rules']\n",
    "print(annotation['rules'],annotation['pathogenicity'])\n",
    "pd.Series(annotation).to_frame().T"
   ],
   "metadata": {
    "collapsed": false,
    "ExecuteTime": {
     "end_time": "2024-05-13T07:23:36.721316300Z",
     "start_time": "2024-05-13T07:23:36.372817Z"
    }
   }
  },
  {
   "cell_type": "code",
   "execution_count": 53,
   "outputs": [
    {
     "name": "stdout",
     "output_type": "stream",
     "text": [
      "{'1A': 0, '2B': 0, '2F': -1, '3A': 0} B\n"
     ]
    },
    {
     "data": {
      "text/plain": "  chromosome     start       end  length error outer_start outer_end  \\\n0      chr15  22750305  23226254  475949     0    22750305  23226254   \n\n  inner_start inner_end func  ...  \\\n0    22750305  23226254  dup  ...   \n\n                                    dgv_gain_records  \\\n0  [((chr15, 20228227, 22775879, gssvG12223, GOLG...   \n\n                                    dgv_loss_records  \\\n0  [((chr15, 22299434, 23102295, gssvL37820, OR4M...   \n\n                                  gnomad_del_records  \\\n0  [((chr15, 22748998, 23268000, gnomAD-SV_v2.1_D...   \n\n                                  gnomad_dup_records  \\\n0  [((chr15, 22808899, 22814000, gnomAD-SV_v2.1_D...   \n\n                                           cyto_band  \\\n0  [((chr15, 20700000, 25700000, q11.2, gneg), 1....   \n\n                                                exon  \\\n0  [((chr15, 22833499, 22833670, 114791, TUBGCP5,...   \n\n                                   rules score pathogenicity pvs1  \n0  {'1A': 0, '2B': 0, '2F': -1, '3A': 0}    -1             B    -  \n\n[1 rows x 37 columns]",
      "text/html": "<div>\n<style scoped>\n    .dataframe tbody tr th:only-of-type {\n        vertical-align: middle;\n    }\n\n    .dataframe tbody tr th {\n        vertical-align: top;\n    }\n\n    .dataframe thead th {\n        text-align: right;\n    }\n</style>\n<table border=\"1\" class=\"dataframe\">\n  <thead>\n    <tr style=\"text-align: right;\">\n      <th></th>\n      <th>chromosome</th>\n      <th>start</th>\n      <th>end</th>\n      <th>length</th>\n      <th>error</th>\n      <th>outer_start</th>\n      <th>outer_end</th>\n      <th>inner_start</th>\n      <th>inner_end</th>\n      <th>func</th>\n      <th>...</th>\n      <th>dgv_gain_records</th>\n      <th>dgv_loss_records</th>\n      <th>gnomad_del_records</th>\n      <th>gnomad_dup_records</th>\n      <th>cyto_band</th>\n      <th>exon</th>\n      <th>rules</th>\n      <th>score</th>\n      <th>pathogenicity</th>\n      <th>pvs1</th>\n    </tr>\n  </thead>\n  <tbody>\n    <tr>\n      <th>0</th>\n      <td>chr15</td>\n      <td>22750305</td>\n      <td>23226254</td>\n      <td>475949</td>\n      <td>0</td>\n      <td>22750305</td>\n      <td>23226254</td>\n      <td>22750305</td>\n      <td>23226254</td>\n      <td>dup</td>\n      <td>...</td>\n      <td>[((chr15, 20228227, 22775879, gssvG12223, GOLG...</td>\n      <td>[((chr15, 22299434, 23102295, gssvL37820, OR4M...</td>\n      <td>[((chr15, 22748998, 23268000, gnomAD-SV_v2.1_D...</td>\n      <td>[((chr15, 22808899, 22814000, gnomAD-SV_v2.1_D...</td>\n      <td>[((chr15, 20700000, 25700000, q11.2, gneg), 1....</td>\n      <td>[((chr15, 22833499, 22833670, 114791, TUBGCP5,...</td>\n      <td>{'1A': 0, '2B': 0, '2F': -1, '3A': 0}</td>\n      <td>-1</td>\n      <td>B</td>\n      <td>-</td>\n    </tr>\n  </tbody>\n</table>\n<p>1 rows × 37 columns</p>\n</div>"
     },
     "execution_count": 53,
     "metadata": {},
     "output_type": "execute_result"
    }
   ],
   "source": [
    "# web results: Evidence: 1A 2B 2F 3A Benign (Total score: -1)\n",
    "annotation = annotate.annotate('chr15', 22750305, 23226254, 'dup')\n",
    "assert '4O' not in annotation['rules']\n",
    "print(annotation['rules'],annotation['pathogenicity'])\n",
    "pd.Series(annotation).to_frame().T"
   ],
   "metadata": {
    "collapsed": false,
    "ExecuteTime": {
     "end_time": "2024-05-13T07:23:36.773177400Z",
     "start_time": "2024-05-13T07:23:36.404618600Z"
    }
   }
  },
  {
   "cell_type": "code",
   "execution_count": 54,
   "outputs": [
    {
     "name": "stdout",
     "output_type": "stream",
     "text": [
      "{'1A': 0, '2L': 0, '3A': 0} VUS\n"
     ]
    },
    {
     "data": {
      "text/plain": "  chromosome start    end length error outer_start outer_end inner_start  \\\n0       chr1   425  69091  68666     0         425     69091         425   \n\n  inner_end func  ...                                   dgv_gain_records  \\\n0     69091  dup  ...  [((chr1, 49911, 222421, gssvG9, OR4F5, 0.0113)...   \n\n                                    dgv_loss_records  \\\n0  [((chr1, 60905, 97505, gssvL18, OR4F5, 0.00609...   \n\n                                  gnomad_del_records gnomad_dup_records  \\\n0  [((chr1, 62398, 62489, gnomAD-SV_v2.1_DEL_1_3,...                 []   \n\n                                           cyto_band exon  \\\n0  [((chr1, 0, 2300000, p36.33, gneg), 1.0, 0.029...   []   \n\n                         rules score pathogenicity pvs1  \n0  {'1A': 0, '2L': 0, '3A': 0}     0           VUS    -  \n\n[1 rows x 37 columns]",
      "text/html": "<div>\n<style scoped>\n    .dataframe tbody tr th:only-of-type {\n        vertical-align: middle;\n    }\n\n    .dataframe tbody tr th {\n        vertical-align: top;\n    }\n\n    .dataframe thead th {\n        text-align: right;\n    }\n</style>\n<table border=\"1\" class=\"dataframe\">\n  <thead>\n    <tr style=\"text-align: right;\">\n      <th></th>\n      <th>chromosome</th>\n      <th>start</th>\n      <th>end</th>\n      <th>length</th>\n      <th>error</th>\n      <th>outer_start</th>\n      <th>outer_end</th>\n      <th>inner_start</th>\n      <th>inner_end</th>\n      <th>func</th>\n      <th>...</th>\n      <th>dgv_gain_records</th>\n      <th>dgv_loss_records</th>\n      <th>gnomad_del_records</th>\n      <th>gnomad_dup_records</th>\n      <th>cyto_band</th>\n      <th>exon</th>\n      <th>rules</th>\n      <th>score</th>\n      <th>pathogenicity</th>\n      <th>pvs1</th>\n    </tr>\n  </thead>\n  <tbody>\n    <tr>\n      <th>0</th>\n      <td>chr1</td>\n      <td>425</td>\n      <td>69091</td>\n      <td>68666</td>\n      <td>0</td>\n      <td>425</td>\n      <td>69091</td>\n      <td>425</td>\n      <td>69091</td>\n      <td>dup</td>\n      <td>...</td>\n      <td>[((chr1, 49911, 222421, gssvG9, OR4F5, 0.0113)...</td>\n      <td>[((chr1, 60905, 97505, gssvL18, OR4F5, 0.00609...</td>\n      <td>[((chr1, 62398, 62489, gnomAD-SV_v2.1_DEL_1_3,...</td>\n      <td>[]</td>\n      <td>[((chr1, 0, 2300000, p36.33, gneg), 1.0, 0.029...</td>\n      <td>[]</td>\n      <td>{'1A': 0, '2L': 0, '3A': 0}</td>\n      <td>0</td>\n      <td>VUS</td>\n      <td>-</td>\n    </tr>\n  </tbody>\n</table>\n<p>1 rows × 37 columns</p>\n</div>"
     },
     "execution_count": 54,
     "metadata": {},
     "output_type": "execute_result"
    }
   ],
   "source": [
    "# web results: Evidence: 1A 2L 3A Variant of Uncertain Significance (Total score: 0)\n",
    "annotation = annotate.annotate('chr1', 425, 69091, 'dup')\n",
    "assert '4O' not in annotation['rules']\n",
    "print(annotation['rules'],annotation['pathogenicity'])\n",
    "pd.Series(annotation).to_frame().T"
   ],
   "metadata": {
    "collapsed": false,
    "ExecuteTime": {
     "end_time": "2024-05-13T07:23:36.807086400Z",
     "start_time": "2024-05-13T07:23:36.470442600Z"
    }
   }
  },
  {
   "cell_type": "code",
   "execution_count": 55,
   "outputs": [
    {
     "name": "stdout",
     "output_type": "stream",
     "text": [
      "{'1A': 0, '2A': 1, '3A': 0} P\n"
     ]
    },
    {
     "data": {
      "text/plain": "  chromosome    start      end   length error outer_start outer_end  \\\n0       chrX  6420555  8153336  1732781     0     6420555   8153336   \n\n  inner_start inner_end func  ... dgv_gain_records  \\\n0     6420555   8153336  del  ...               []   \n\n                                    dgv_loss_records  \\\n0  [((chrX, 6744995, 6830091, gssvL135260, , 0.00...   \n\n                                  gnomad_del_records  \\\n0  [((chrX, 6451497, 6898200, gnomAD-SV_v2.1_DEL_...   \n\n                                  gnomad_dup_records  \\\n0  [((chrX, 6297747, 6527194, gnomAD-SV_v2.1_DUP_...   \n\n                                           cyto_band  \\\n0  [((chrX, 6000000, 9500000, p22.31, gneg), 1.0,...   \n\n                                                exon  \\\n0  [((chrX, 6451659, 6452244, 51481, VCX3A, 1, NM...   \n\n                         rules score pathogenicity pvs1  \n0  {'1A': 0, '2A': 1, '3A': 0}     1             P    -  \n\n[1 rows x 37 columns]",
      "text/html": "<div>\n<style scoped>\n    .dataframe tbody tr th:only-of-type {\n        vertical-align: middle;\n    }\n\n    .dataframe tbody tr th {\n        vertical-align: top;\n    }\n\n    .dataframe thead th {\n        text-align: right;\n    }\n</style>\n<table border=\"1\" class=\"dataframe\">\n  <thead>\n    <tr style=\"text-align: right;\">\n      <th></th>\n      <th>chromosome</th>\n      <th>start</th>\n      <th>end</th>\n      <th>length</th>\n      <th>error</th>\n      <th>outer_start</th>\n      <th>outer_end</th>\n      <th>inner_start</th>\n      <th>inner_end</th>\n      <th>func</th>\n      <th>...</th>\n      <th>dgv_gain_records</th>\n      <th>dgv_loss_records</th>\n      <th>gnomad_del_records</th>\n      <th>gnomad_dup_records</th>\n      <th>cyto_band</th>\n      <th>exon</th>\n      <th>rules</th>\n      <th>score</th>\n      <th>pathogenicity</th>\n      <th>pvs1</th>\n    </tr>\n  </thead>\n  <tbody>\n    <tr>\n      <th>0</th>\n      <td>chrX</td>\n      <td>6420555</td>\n      <td>8153336</td>\n      <td>1732781</td>\n      <td>0</td>\n      <td>6420555</td>\n      <td>8153336</td>\n      <td>6420555</td>\n      <td>8153336</td>\n      <td>del</td>\n      <td>...</td>\n      <td>[]</td>\n      <td>[((chrX, 6744995, 6830091, gssvL135260, , 0.00...</td>\n      <td>[((chrX, 6451497, 6898200, gnomAD-SV_v2.1_DEL_...</td>\n      <td>[((chrX, 6297747, 6527194, gnomAD-SV_v2.1_DUP_...</td>\n      <td>[((chrX, 6000000, 9500000, p22.31, gneg), 1.0,...</td>\n      <td>[((chrX, 6451659, 6452244, 51481, VCX3A, 1, NM...</td>\n      <td>{'1A': 0, '2A': 1, '3A': 0}</td>\n      <td>1</td>\n      <td>P</td>\n      <td>-</td>\n    </tr>\n  </tbody>\n</table>\n<p>1 rows × 37 columns</p>\n</div>"
     },
     "execution_count": 55,
     "metadata": {},
     "output_type": "execute_result"
    }
   ],
   "source": [
    "# web results: Evidence: 1A 2A 3A Pathogenic (Total score: 1)\n",
    "annotation = annotate.annotate('chr23', 6420555, 8153336, 'del')\n",
    "print(annotation['rules'],annotation['pathogenicity'])\n",
    "pd.Series(annotation).to_frame().T"
   ],
   "metadata": {
    "collapsed": false,
    "ExecuteTime": {
     "end_time": "2024-05-13T07:23:36.900836900Z",
     "start_time": "2024-05-13T07:23:36.495377100Z"
    }
   }
  },
  {
   "cell_type": "code",
   "execution_count": 56,
   "outputs": [
    {
     "name": "stdout",
     "output_type": "stream",
     "text": [
      "{'1A': 0, '2A': 1, '3A': 0} P\n"
     ]
    },
    {
     "data": {
      "text/plain": "  chromosome     start       end  length error outer_start outer_end  \\\n0      chr11  45904399  46480747  576348     0    45904399  46480747   \n\n  inner_start inner_end func  ...  \\\n0    45904399  46480747  del  ...   \n\n                                    dgv_gain_records  \\\n0  [((chr11, 46142069, 46142658, gssvG6462, PHF21...   \n\n                                    dgv_loss_records  \\\n0  [((chr11, 46161015, 46162402, gssvL18565, , 0....   \n\n                                  gnomad_del_records  \\\n0  [((chr11, 45909142, 45909642, gnomAD-SV_v2.1_D...   \n\n                                  gnomad_dup_records  \\\n0  [((chr11, 45920658, 45921029, gnomAD-SV_v2.1_D...   \n\n                                           cyto_band  \\\n0  [((chr11, 43500000, 48800000, p11.2, gneg), 1....   \n\n                                                exon  \\\n0  [((chr11, 45902465, 45904799, 1408, CRY2, 12, ...   \n\n                         rules score pathogenicity pvs1  \n0  {'1A': 0, '2A': 1, '3A': 0}     1             P    -  \n\n[1 rows x 37 columns]",
      "text/html": "<div>\n<style scoped>\n    .dataframe tbody tr th:only-of-type {\n        vertical-align: middle;\n    }\n\n    .dataframe tbody tr th {\n        vertical-align: top;\n    }\n\n    .dataframe thead th {\n        text-align: right;\n    }\n</style>\n<table border=\"1\" class=\"dataframe\">\n  <thead>\n    <tr style=\"text-align: right;\">\n      <th></th>\n      <th>chromosome</th>\n      <th>start</th>\n      <th>end</th>\n      <th>length</th>\n      <th>error</th>\n      <th>outer_start</th>\n      <th>outer_end</th>\n      <th>inner_start</th>\n      <th>inner_end</th>\n      <th>func</th>\n      <th>...</th>\n      <th>dgv_gain_records</th>\n      <th>dgv_loss_records</th>\n      <th>gnomad_del_records</th>\n      <th>gnomad_dup_records</th>\n      <th>cyto_band</th>\n      <th>exon</th>\n      <th>rules</th>\n      <th>score</th>\n      <th>pathogenicity</th>\n      <th>pvs1</th>\n    </tr>\n  </thead>\n  <tbody>\n    <tr>\n      <th>0</th>\n      <td>chr11</td>\n      <td>45904399</td>\n      <td>46480747</td>\n      <td>576348</td>\n      <td>0</td>\n      <td>45904399</td>\n      <td>46480747</td>\n      <td>45904399</td>\n      <td>46480747</td>\n      <td>del</td>\n      <td>...</td>\n      <td>[((chr11, 46142069, 46142658, gssvG6462, PHF21...</td>\n      <td>[((chr11, 46161015, 46162402, gssvL18565, , 0....</td>\n      <td>[((chr11, 45909142, 45909642, gnomAD-SV_v2.1_D...</td>\n      <td>[((chr11, 45920658, 45921029, gnomAD-SV_v2.1_D...</td>\n      <td>[((chr11, 43500000, 48800000, p11.2, gneg), 1....</td>\n      <td>[((chr11, 45902465, 45904799, 1408, CRY2, 12, ...</td>\n      <td>{'1A': 0, '2A': 1, '3A': 0}</td>\n      <td>1</td>\n      <td>P</td>\n      <td>-</td>\n    </tr>\n  </tbody>\n</table>\n<p>1 rows × 37 columns</p>\n</div>"
     },
     "execution_count": 56,
     "metadata": {},
     "output_type": "execute_result"
    }
   ],
   "source": [
    "# web results: Evidence: 1A 2B 3A Variant of Uncertain Significance (Total score: 0)\n",
    "#TODO\n",
    "# 2A? 2B? 2H?\n",
    "annotation = annotate.annotate('chr11', 45904399, 46480747, 'del')\n",
    "print(annotation['rules'],annotation['pathogenicity'])\n",
    "pd.Series(annotation).to_frame().T"
   ],
   "metadata": {
    "collapsed": false,
    "ExecuteTime": {
     "end_time": "2024-05-13T07:23:36.999740100Z",
     "start_time": "2024-05-13T07:23:36.556213900Z"
    }
   }
  },
  {
   "cell_type": "code",
   "execution_count": 57,
   "outputs": [
    {
     "ename": "AssertionError",
     "evalue": "",
     "output_type": "error",
     "traceback": [
      "\u001B[0;31m---------------------------------------------------------------------------\u001B[0m",
      "\u001B[0;31mAssertionError\u001B[0m                            Traceback (most recent call last)",
      "Cell \u001B[0;32mIn[57], line 2\u001B[0m\n\u001B[1;32m      1\u001B[0m \u001B[38;5;66;03m# 2A don't in web result but in this\u001B[39;00m\n\u001B[0;32m----> 2\u001B[0m \u001B[38;5;28;01massert\u001B[39;00m \u001B[38;5;124m'\u001B[39m\u001B[38;5;124m2A\u001B[39m\u001B[38;5;124m'\u001B[39m \u001B[38;5;129;01mnot\u001B[39;00m \u001B[38;5;129;01min\u001B[39;00m annotation[\u001B[38;5;124m'\u001B[39m\u001B[38;5;124mrules\u001B[39m\u001B[38;5;124m'\u001B[39m]\n",
      "\u001B[0;31mAssertionError\u001B[0m: "
     ]
    }
   ],
   "source": [
    "# 2A don't in web result but in this\n",
    "assert '2A' not in annotation['rules']"
   ],
   "metadata": {
    "collapsed": false,
    "ExecuteTime": {
     "end_time": "2024-05-13T07:23:37.000694800Z",
     "start_time": "2024-05-13T07:23:36.636351300Z"
    }
   }
  },
  {
   "cell_type": "code",
   "execution_count": null,
   "outputs": [],
   "source": [
    "# 2H don't contain in web result\n",
    "assert '2H' in annotation['rules']"
   ],
   "metadata": {
    "collapsed": false,
    "ExecuteTime": {
     "start_time": "2024-05-13T07:23:36.636351300Z"
    }
   }
  }
 ],
 "metadata": {
  "kernelspec": {
   "display_name": "Python 3",
   "language": "python",
   "name": "python3"
  },
  "language_info": {
   "codemirror_mode": {
    "name": "ipython",
    "version": 2
   },
   "file_extension": ".py",
   "mimetype": "text/x-python",
   "name": "python",
   "nbconvert_exporter": "python",
   "pygments_lexer": "ipython2",
   "version": "2.7.6"
  }
 },
 "nbformat": 4,
 "nbformat_minor": 0
}
